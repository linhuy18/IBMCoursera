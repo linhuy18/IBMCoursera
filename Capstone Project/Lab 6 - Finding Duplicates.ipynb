{
 "cells": [
  {
   "cell_type": "markdown",
   "id": "3fd50f2e-3f4a-4f32-b732-a1961f756561",
   "metadata": {},
   "source": [
    "# **Finding Duplicates Lab**\n",
    "\n",
    "## Introduction\n",
    "Data wrangling is a critical step in preparing datasets for analysis, and handling duplicates plays a key role in ensuring data accuracy. In this lab, you will focus on identifying and removing duplicate entries from your dataset. \n",
    "\n",
    "## Objectives\n",
    "In this lab, you will perform the following:\n",
    "1. Identify duplicate rows in the dataset and analyze their characteristics.\n",
    "2. Visualize the distribution of duplicates based on key attributes.\n",
    "3. Remove duplicate values strategically based on specific criteria.\n",
    "4. Outline the process of verifying and documenting duplicate removal."
   ]
  },
  {
   "cell_type": "markdown",
   "id": "d8329849-34c2-4d9e-9567-15370e8fef6c",
   "metadata": {},
   "source": [
    "## Hands on Lab\n"
   ]
  },
  {
   "cell_type": "markdown",
   "id": "a8e7bdf8-2e11-44f5-b6e3-e9c2e7ad766c",
   "metadata": {},
   "source": [
    "Install the needed library\n"
   ]
  },
  {
   "cell_type": "code",
   "execution_count": 2,
   "id": "2e9dc645-7958-4d22-a004-b18d62a6efc9",
   "metadata": {},
   "outputs": [
    {
     "name": "stdout",
     "output_type": "stream",
     "text": [
      "Requirement already satisfied: pandas in c:\\users\\linh huynh\\appdata\\local\\programs\\python\\python313\\lib\\site-packages (2.3.0)\n",
      "Requirement already satisfied: numpy>=1.26.0 in c:\\users\\linh huynh\\appdata\\local\\programs\\python\\python313\\lib\\site-packages (from pandas) (2.3.0)\n",
      "Requirement already satisfied: python-dateutil>=2.8.2 in c:\\users\\linh huynh\\appdata\\roaming\\python\\python313\\site-packages (from pandas) (2.9.0.post0)\n",
      "Requirement already satisfied: pytz>=2020.1 in c:\\users\\linh huynh\\appdata\\local\\programs\\python\\python313\\lib\\site-packages (from pandas) (2025.2)\n",
      "Requirement already satisfied: tzdata>=2022.7 in c:\\users\\linh huynh\\appdata\\local\\programs\\python\\python313\\lib\\site-packages (from pandas) (2025.2)\n",
      "Requirement already satisfied: six>=1.5 in c:\\users\\linh huynh\\appdata\\roaming\\python\\python313\\site-packages (from python-dateutil>=2.8.2->pandas) (1.17.0)\n",
      "Note: you may need to restart the kernel to use updated packages.\n"
     ]
    },
    {
     "name": "stderr",
     "output_type": "stream",
     "text": [
      "\n",
      "[notice] A new release of pip is available: 25.0.1 -> 25.1.1\n",
      "[notice] To update, run: python.exe -m pip install --upgrade pip\n"
     ]
    },
    {
     "name": "stdout",
     "output_type": "stream",
     "text": [
      "Requirement already satisfied: matplotlib in c:\\users\\linh huynh\\appdata\\local\\programs\\python\\python313\\lib\\site-packages (3.10.3)\n",
      "Requirement already satisfied: contourpy>=1.0.1 in c:\\users\\linh huynh\\appdata\\local\\programs\\python\\python313\\lib\\site-packages (from matplotlib) (1.3.2)\n",
      "Requirement already satisfied: cycler>=0.10 in c:\\users\\linh huynh\\appdata\\local\\programs\\python\\python313\\lib\\site-packages (from matplotlib) (0.12.1)\n",
      "Requirement already satisfied: fonttools>=4.22.0 in c:\\users\\linh huynh\\appdata\\local\\programs\\python\\python313\\lib\\site-packages (from matplotlib) (4.58.2)\n",
      "Requirement already satisfied: kiwisolver>=1.3.1 in c:\\users\\linh huynh\\appdata\\local\\programs\\python\\python313\\lib\\site-packages (from matplotlib) (1.4.8)\n",
      "Requirement already satisfied: numpy>=1.23 in c:\\users\\linh huynh\\appdata\\local\\programs\\python\\python313\\lib\\site-packages (from matplotlib) (2.3.0)\n",
      "Requirement already satisfied: packaging>=20.0 in c:\\users\\linh huynh\\appdata\\roaming\\python\\python313\\site-packages (from matplotlib) (25.0)\n",
      "Requirement already satisfied: pillow>=8 in c:\\users\\linh huynh\\appdata\\local\\programs\\python\\python313\\lib\\site-packages (from matplotlib) (11.2.1)\n",
      "Requirement already satisfied: pyparsing>=2.3.1 in c:\\users\\linh huynh\\appdata\\local\\programs\\python\\python313\\lib\\site-packages (from matplotlib) (3.2.3)\n",
      "Requirement already satisfied: python-dateutil>=2.7 in c:\\users\\linh huynh\\appdata\\roaming\\python\\python313\\site-packages (from matplotlib) (2.9.0.post0)\n",
      "Requirement already satisfied: six>=1.5 in c:\\users\\linh huynh\\appdata\\roaming\\python\\python313\\site-packages (from python-dateutil>=2.7->matplotlib) (1.17.0)\n",
      "Note: you may need to restart the kernel to use updated packages.\n"
     ]
    },
    {
     "name": "stderr",
     "output_type": "stream",
     "text": [
      "\n",
      "[notice] A new release of pip is available: 25.0.1 -> 25.1.1\n",
      "[notice] To update, run: python.exe -m pip install --upgrade pip\n"
     ]
    }
   ],
   "source": [
    "%pip install pandas\n",
    "%pip install matplotlib"
   ]
  },
  {
   "cell_type": "markdown",
   "id": "d850c702-b3c6-472e-97e6-784dfc4d7657",
   "metadata": {},
   "source": [
    "Import pandas module\n"
   ]
  },
  {
   "cell_type": "code",
   "execution_count": 3,
   "id": "9b01f14b-8e35-4d16-8ca5-78088b3dc7db",
   "metadata": {},
   "outputs": [],
   "source": [
    "import pandas as pd"
   ]
  },
  {
   "cell_type": "markdown",
   "id": "5e0b5037-750e-4f9c-a3c8-be19a0f0fb7f",
   "metadata": {},
   "source": [
    "Import matplotlib\n"
   ]
  },
  {
   "cell_type": "code",
   "execution_count": 4,
   "id": "b6be1eb5-be4d-4a83-a184-979457428725",
   "metadata": {},
   "outputs": [],
   "source": [
    "import matplotlib.pyplot as plt"
   ]
  },
  {
   "cell_type": "markdown",
   "id": "6a2e8452-3c54-43e4-a568-19916e762331",
   "metadata": {},
   "source": [
    "## **Load the dataset into a dataframe**\n"
   ]
  },
  {
   "cell_type": "markdown",
   "id": "ef0de7ff-2a28-43df-b9f0-a3329da2b27e",
   "metadata": {},
   "source": [
    "<h2>Read Data</h2>\n",
    "<p>\n",
    "We utilize the <code>pandas.read_csv()</code> function for reading CSV files. However, in this version of the lab, which operates on JupyterLite, the dataset needs to be downloaded to the interface using the provided code below.\n",
    "</p>\n"
   ]
  },
  {
   "cell_type": "code",
   "execution_count": 5,
   "id": "da2146c8-bbb3-4b87-ac0a-e15d099c688e",
   "metadata": {},
   "outputs": [
    {
     "name": "stdout",
     "output_type": "stream",
     "text": [
      "   ResponseId                      MainBranch                 Age  \\\n",
      "0           1  I am a developer by profession  Under 18 years old   \n",
      "1           2  I am a developer by profession     35-44 years old   \n",
      "2           3  I am a developer by profession     45-54 years old   \n",
      "3           4           I am learning to code     18-24 years old   \n",
      "4           5  I am a developer by profession     18-24 years old   \n",
      "\n",
      "            Employment RemoteWork   Check  \\\n",
      "0  Employed, full-time     Remote  Apples   \n",
      "1  Employed, full-time     Remote  Apples   \n",
      "2  Employed, full-time     Remote  Apples   \n",
      "3   Student, full-time        NaN  Apples   \n",
      "4   Student, full-time        NaN  Apples   \n",
      "\n",
      "                                    CodingActivities  \\\n",
      "0                                              Hobby   \n",
      "1  Hobby;Contribute to open-source projects;Other...   \n",
      "2  Hobby;Contribute to open-source projects;Other...   \n",
      "3                                                NaN   \n",
      "4                                                NaN   \n",
      "\n",
      "                                             EdLevel  \\\n",
      "0                          Primary/elementary school   \n",
      "1       Bachelor’s degree (B.A., B.S., B.Eng., etc.)   \n",
      "2    Master’s degree (M.A., M.S., M.Eng., MBA, etc.)   \n",
      "3  Some college/university study without earning ...   \n",
      "4  Secondary school (e.g. American high school, G...   \n",
      "\n",
      "                                           LearnCode  \\\n",
      "0                             Books / Physical media   \n",
      "1  Books / Physical media;Colleague;On the job tr...   \n",
      "2  Books / Physical media;Colleague;On the job tr...   \n",
      "3  Other online resources (e.g., videos, blogs, f...   \n",
      "4  Other online resources (e.g., videos, blogs, f...   \n",
      "\n",
      "                                     LearnCodeOnline  ... JobSatPoints_6  \\\n",
      "0                                                NaN  ...            NaN   \n",
      "1  Technical documentation;Blogs;Books;Written Tu...  ...            0.0   \n",
      "2  Technical documentation;Blogs;Books;Written Tu...  ...            NaN   \n",
      "3  Stack Overflow;How-to videos;Interactive tutorial  ...            NaN   \n",
      "4  Technical documentation;Blogs;Written Tutorial...  ...            NaN   \n",
      "\n",
      "  JobSatPoints_7 JobSatPoints_8 JobSatPoints_9 JobSatPoints_10  \\\n",
      "0            NaN            NaN            NaN             NaN   \n",
      "1            0.0            0.0            0.0             0.0   \n",
      "2            NaN            NaN            NaN             NaN   \n",
      "3            NaN            NaN            NaN             NaN   \n",
      "4            NaN            NaN            NaN             NaN   \n",
      "\n",
      "  JobSatPoints_11           SurveyLength SurveyEase ConvertedCompYearly JobSat  \n",
      "0             NaN                    NaN        NaN                 NaN    NaN  \n",
      "1             0.0                    NaN        NaN                 NaN    NaN  \n",
      "2             NaN  Appropriate in length       Easy                 NaN    NaN  \n",
      "3             NaN               Too long       Easy                 NaN    NaN  \n",
      "4             NaN              Too short       Easy                 NaN    NaN  \n",
      "\n",
      "[5 rows x 114 columns]\n"
     ]
    }
   ],
   "source": [
    "# Load the dataset directly from the URL\n",
    "file_path = \"https://cf-courses-data.s3.us.cloud-object-storage.appdomain.cloud/VYPrOu0Vs3I0hKLLjiPGrA/survey-data-with-duplicate.csv\"\n",
    "df = pd.read_csv(file_path)\n",
    "\n",
    "# Display the first few rows\n",
    "print(df.head())"
   ]
  },
  {
   "cell_type": "markdown",
   "id": "873cfff6-094b-4d40-9eae-99d13b91a16f",
   "metadata": {},
   "source": [
    "Load the data into a pandas dataframe:\n",
    "\n"
   ]
  },
  {
   "cell_type": "markdown",
   "id": "d8c5c700-c03b-4417-b075-c2b8e1f468ea",
   "metadata": {},
   "source": [
    "Note: If you are working on a local Jupyter environment, you can use the URL directly in the pandas.read_csv() function as shown below:\n",
    "\n"
   ]
  },
  {
   "cell_type": "code",
   "execution_count": null,
   "id": "e1f2347e-fa12-425b-a7c7-52462add160c",
   "metadata": {},
   "outputs": [],
   "source": [
    "# df = pd.read_csv(\"https://cf-courses-data.s3.us.cloud-object-storage.appdomain.cloud/n01PQ9pSmiRX6520flujwQ/survey-data.csv\")"
   ]
  },
  {
   "cell_type": "markdown",
   "id": "039095a6-af41-42a5-bc15-1f5715b30ad6",
   "metadata": {},
   "source": [
    "## Identify and Analyze Duplicates\n"
   ]
  },
  {
   "cell_type": "markdown",
   "id": "d09621e9-02ae-46b9-88dd-0b8a96b1336b",
   "metadata": {},
   "source": [
    "### Task 1: Identify Duplicate Rows\n",
    "1. Count the number of duplicate rows in the dataset.\n",
    "3. Display the first few duplicate rows to understand their structure.\n"
   ]
  },
  {
   "cell_type": "code",
   "execution_count": 6,
   "id": "4b0a5f12-97d0-4c18-a1a4-dce70f8418df",
   "metadata": {},
   "outputs": [
    {
     "name": "stdout",
     "output_type": "stream",
     "text": [
      "\n",
      "Number of duplicate rows: 20\n",
      "\n",
      "First few duplicate rows:\n",
      "       ResponseId                      MainBranch                 Age  \\\n",
      "65437           1  I am a developer by profession  Under 18 years old   \n",
      "65438           2  I am a developer by profession     35-44 years old   \n",
      "65439           3  I am a developer by profession     45-54 years old   \n",
      "65440           4           I am learning to code     18-24 years old   \n",
      "65441           5  I am a developer by profession     18-24 years old   \n",
      "\n",
      "                Employment RemoteWork   Check  \\\n",
      "65437  Employed, full-time     Remote  Apples   \n",
      "65438  Employed, full-time     Remote  Apples   \n",
      "65439  Employed, full-time     Remote  Apples   \n",
      "65440   Student, full-time        NaN  Apples   \n",
      "65441   Student, full-time        NaN  Apples   \n",
      "\n",
      "                                        CodingActivities  \\\n",
      "65437                                              Hobby   \n",
      "65438  Hobby;Contribute to open-source projects;Other...   \n",
      "65439  Hobby;Contribute to open-source projects;Other...   \n",
      "65440                                                NaN   \n",
      "65441                                                NaN   \n",
      "\n",
      "                                                 EdLevel  \\\n",
      "65437                          Primary/elementary school   \n",
      "65438       Bachelor’s degree (B.A., B.S., B.Eng., etc.)   \n",
      "65439    Master’s degree (M.A., M.S., M.Eng., MBA, etc.)   \n",
      "65440  Some college/university study without earning ...   \n",
      "65441  Secondary school (e.g. American high school, G...   \n",
      "\n",
      "                                               LearnCode  \\\n",
      "65437                             Books / Physical media   \n",
      "65438  Books / Physical media;Colleague;On the job tr...   \n",
      "65439  Books / Physical media;Colleague;On the job tr...   \n",
      "65440  Other online resources (e.g., videos, blogs, f...   \n",
      "65441  Other online resources (e.g., videos, blogs, f...   \n",
      "\n",
      "                                         LearnCodeOnline  ... JobSatPoints_6  \\\n",
      "65437                                                NaN  ...            NaN   \n",
      "65438  Technical documentation;Blogs;Books;Written Tu...  ...            0.0   \n",
      "65439  Technical documentation;Blogs;Books;Written Tu...  ...            NaN   \n",
      "65440  Stack Overflow;How-to videos;Interactive tutorial  ...            NaN   \n",
      "65441  Technical documentation;Blogs;Written Tutorial...  ...            NaN   \n",
      "\n",
      "      JobSatPoints_7 JobSatPoints_8 JobSatPoints_9 JobSatPoints_10  \\\n",
      "65437            NaN            NaN            NaN             NaN   \n",
      "65438            0.0            0.0            0.0             0.0   \n",
      "65439            NaN            NaN            NaN             NaN   \n",
      "65440            NaN            NaN            NaN             NaN   \n",
      "65441            NaN            NaN            NaN             NaN   \n",
      "\n",
      "      JobSatPoints_11           SurveyLength SurveyEase ConvertedCompYearly  \\\n",
      "65437             NaN                    NaN        NaN                 NaN   \n",
      "65438             0.0                    NaN        NaN                 NaN   \n",
      "65439             NaN  Appropriate in length       Easy                 NaN   \n",
      "65440             NaN               Too long       Easy                 NaN   \n",
      "65441             NaN              Too short       Easy                 NaN   \n",
      "\n",
      "      JobSat  \n",
      "65437    NaN  \n",
      "65438    NaN  \n",
      "65439    NaN  \n",
      "65440    NaN  \n",
      "65441    NaN  \n",
      "\n",
      "[5 rows x 114 columns]\n"
     ]
    }
   ],
   "source": [
    "## Write your code here\n",
    "# Count the number of duplicate rows\n",
    "num_duplicates = df.duplicated().sum()\n",
    "print(\"\\nNumber of duplicate rows:\", num_duplicates)\n",
    "\n",
    "# Display the first few duplicate rows\n",
    "duplicate_rows = df[df.duplicated()]\n",
    "print(\"\\nFirst few duplicate rows:\")\n",
    "print(duplicate_rows.head())"
   ]
  },
  {
   "cell_type": "markdown",
   "id": "655d4b89-d51b-4889-bf2f-38fcb0a7b926",
   "metadata": {},
   "source": [
    "### Task 2: Analyze Characteristics of Duplicates\n",
    "1. Identify duplicate rows based on selected columns such as MainBranch, Employment, and RemoteWork. Analyse which columns frequently contain identical values within these duplicate rows.\n",
    "2. Analyse the characteristics of rows that are duplicates based on a subset of columns, such as MainBranch, Employment, and RemoteWork. Determine which columns frequently have identical values across these rows.\n",
    "   \n"
   ]
  },
  {
   "cell_type": "code",
   "execution_count": 7,
   "id": "8b9928b3-ee07-45a2-8f88-cf339457c7db",
   "metadata": {},
   "outputs": [
    {
     "name": "stdout",
     "output_type": "stream",
     "text": [
      "Sample of duplicates based on MainBranch, Employment, and RemoteWork:\n",
      "   ResponseId                      MainBranch                 Age  \\\n",
      "0           1  I am a developer by profession  Under 18 years old   \n",
      "1           2  I am a developer by profession     35-44 years old   \n",
      "2           3  I am a developer by profession     45-54 years old   \n",
      "3           4           I am learning to code     18-24 years old   \n",
      "4           5  I am a developer by profession     18-24 years old   \n",
      "\n",
      "            Employment RemoteWork   Check  \\\n",
      "0  Employed, full-time     Remote  Apples   \n",
      "1  Employed, full-time     Remote  Apples   \n",
      "2  Employed, full-time     Remote  Apples   \n",
      "3   Student, full-time        NaN  Apples   \n",
      "4   Student, full-time        NaN  Apples   \n",
      "\n",
      "                                    CodingActivities  \\\n",
      "0                                              Hobby   \n",
      "1  Hobby;Contribute to open-source projects;Other...   \n",
      "2  Hobby;Contribute to open-source projects;Other...   \n",
      "3                                                NaN   \n",
      "4                                                NaN   \n",
      "\n",
      "                                             EdLevel  \\\n",
      "0                          Primary/elementary school   \n",
      "1       Bachelor’s degree (B.A., B.S., B.Eng., etc.)   \n",
      "2    Master’s degree (M.A., M.S., M.Eng., MBA, etc.)   \n",
      "3  Some college/university study without earning ...   \n",
      "4  Secondary school (e.g. American high school, G...   \n",
      "\n",
      "                                           LearnCode  \\\n",
      "0                             Books / Physical media   \n",
      "1  Books / Physical media;Colleague;On the job tr...   \n",
      "2  Books / Physical media;Colleague;On the job tr...   \n",
      "3  Other online resources (e.g., videos, blogs, f...   \n",
      "4  Other online resources (e.g., videos, blogs, f...   \n",
      "\n",
      "                                     LearnCodeOnline  ... JobSatPoints_6  \\\n",
      "0                                                NaN  ...            NaN   \n",
      "1  Technical documentation;Blogs;Books;Written Tu...  ...            0.0   \n",
      "2  Technical documentation;Blogs;Books;Written Tu...  ...            NaN   \n",
      "3  Stack Overflow;How-to videos;Interactive tutorial  ...            NaN   \n",
      "4  Technical documentation;Blogs;Written Tutorial...  ...            NaN   \n",
      "\n",
      "  JobSatPoints_7 JobSatPoints_8 JobSatPoints_9 JobSatPoints_10  \\\n",
      "0            NaN            NaN            NaN             NaN   \n",
      "1            0.0            0.0            0.0             0.0   \n",
      "2            NaN            NaN            NaN             NaN   \n",
      "3            NaN            NaN            NaN             NaN   \n",
      "4            NaN            NaN            NaN             NaN   \n",
      "\n",
      "  JobSatPoints_11           SurveyLength SurveyEase ConvertedCompYearly JobSat  \n",
      "0             NaN                    NaN        NaN                 NaN    NaN  \n",
      "1             0.0                    NaN        NaN                 NaN    NaN  \n",
      "2             NaN  Appropriate in length       Easy                 NaN    NaN  \n",
      "3             NaN               Too long       Easy                 NaN    NaN  \n",
      "4             NaN              Too short       Easy                 NaN    NaN  \n",
      "\n",
      "[5 rows x 114 columns]\n",
      "\n",
      "Columns that most frequently match within duplicate groups:\n",
      "Check: 319 groups\n",
      "AINextMuch less integrated: 213 groups\n",
      "ConvertedCompYearly: 165 groups\n",
      "AINextLess integrated: 161 groups\n",
      "BuildvsBuy: 161 groups\n",
      "PurchaseInfluence: 156 groups\n",
      "CompTotal: 152 groups\n",
      "OrgSize: 151 groups\n",
      "Currency: 146 groups\n",
      "YearsCodePro: 144 groups\n",
      "BuyNewTool: 143 groups\n",
      "TechEndorse: 142 groups\n",
      "Frequency_3: 135 groups\n",
      "TBranch: 134 groups\n",
      "ProfessionalTech: 134 groups\n",
      "ProfessionalCloud: 133 groups\n",
      "ICorPM: 133 groups\n",
      "Knowledge_8: 132 groups\n",
      "Knowledge_5: 131 groups\n",
      "Industry: 130 groups\n",
      "Knowledge_3: 130 groups\n",
      "Frequency_1: 130 groups\n",
      "TimeSearching: 130 groups\n",
      "Knowledge_4: 130 groups\n",
      "Knowledge_9: 130 groups\n",
      "Knowledge_1: 129 groups\n",
      "ProfessionalQuestion: 129 groups\n",
      "Knowledge_7: 129 groups\n",
      "JobSatPoints_4: 129 groups\n",
      "Knowledge_6: 129 groups\n",
      "TimeAnswering: 129 groups\n",
      "JobSatPoints_8: 128 groups\n",
      "JobSat: 128 groups\n",
      "Knowledge_2: 128 groups\n",
      "Frequency_2: 128 groups\n",
      "Frustration: 128 groups\n",
      "JobSatPoints_1: 127 groups\n",
      "JobSatPoints_5: 127 groups\n",
      "JobSatPoints_6: 127 groups\n",
      "WorkExp: 127 groups\n",
      "JobSatPoints_10: 127 groups\n",
      "JobSatPoints_11: 127 groups\n",
      "JobSatPoints_7: 126 groups\n",
      "JobSatPoints_9: 126 groups\n",
      "AINextNo change: 91 groups\n",
      "EmbeddedAdmired: 67 groups\n",
      "AINextMuch more integrated: 64 groups\n",
      "EmbeddedWantToWorkWith: 62 groups\n",
      "SOAccount: 58 groups\n",
      "AISelect: 58 groups\n",
      "EmbeddedHaveWorkedWith: 45 groups\n",
      "AINextMore integrated: 45 groups\n",
      "AIToolNot interested in Using: 42 groups\n",
      "SurveyLength: 41 groups\n",
      "AIThreat: 36 groups\n",
      "PlatformAdmired: 33 groups\n",
      "MiscTechAdmired: 32 groups\n",
      "AIComplex: 31 groups\n",
      "Age: 30 groups\n",
      "OfficeStackAsyncAdmired: 29 groups\n",
      "WebframeAdmired: 29 groups\n",
      "SurveyEase: 29 groups\n",
      "AIAcc: 28 groups\n",
      "AISent: 26 groups\n",
      "MiscTechWantToWorkWith: 26 groups\n",
      "AISearchDevAdmired: 24 groups\n",
      "AIToolInterested in Using: 24 groups\n",
      "OfficeStackAsyncWantToWorkWith: 24 groups\n",
      "DatabaseAdmired: 24 groups\n",
      "AISearchDevWantToWorkWith: 23 groups\n",
      "SOPartFreq: 23 groups\n",
      "NEWSOSites: 22 groups\n",
      "PlatformWantToWorkWith: 22 groups\n",
      "ToolsTechAdmired: 21 groups\n",
      "WebframeWantToWorkWith: 21 groups\n",
      "SOVisitFreq: 19 groups\n",
      "AIChallenges: 19 groups\n",
      "MiscTechHaveWorkedWith: 18 groups\n",
      "AIBen: 17 groups\n",
      "AIToolCurrently Using: 17 groups\n",
      "TechDoc: 16 groups\n",
      "ToolsTechWantToWorkWith: 16 groups\n",
      "DatabaseWantToWorkWith: 16 groups\n",
      "SOComm: 15 groups\n",
      "OfficeStackAsyncHaveWorkedWith: 15 groups\n",
      "OfficeStackSyncAdmired: 13 groups\n",
      "PlatformHaveWorkedWith: 13 groups\n",
      "OfficeStackSyncWantToWorkWith: 12 groups\n",
      "EdLevel: 12 groups\n",
      "WebframeHaveWorkedWith: 12 groups\n",
      "NEWCollabToolsAdmired: 11 groups\n",
      "AISearchDevHaveWorkedWith: 11 groups\n",
      "AIEthics: 11 groups\n",
      "LanguageAdmired: 10 groups\n",
      "Country: 10 groups\n",
      "NEWCollabToolsWantToWorkWith: 9 groups\n",
      "ToolsTechHaveWorkedWith: 8 groups\n",
      "DatabaseHaveWorkedWith: 8 groups\n",
      "OpSysPersonal use: 8 groups\n",
      "OpSysProfessional use: 8 groups\n",
      "LearnCodeOnline: 7 groups\n",
      "NEWCollabToolsHaveWorkedWith: 7 groups\n",
      "DevType: 7 groups\n",
      "SOHow: 6 groups\n",
      "LanguageWantToWorkWith: 5 groups\n",
      "OfficeStackSyncHaveWorkedWith: 5 groups\n",
      "LanguageHaveWorkedWith: 4 groups\n",
      "LearnCode: 4 groups\n",
      "YearsCode: 4 groups\n",
      "CodingActivities: 1 groups\n"
     ]
    }
   ],
   "source": [
    "## Write your code here\n",
    "# Step 1: Find duplicates based only on selected subset of columns\n",
    "subset_cols = ['MainBranch', 'Employment', 'RemoteWork']\n",
    "duplicate_subset = df[df.duplicated(subset=subset_cols, keep=False)]\n",
    "\n",
    "# Step 2: Display sample of those duplicate rows\n",
    "print(\"Sample of duplicates based on MainBranch, Employment, and RemoteWork:\")\n",
    "print(duplicate_subset.head())\n",
    "\n",
    "# Step 3: Analyze which columns have identical values across these duplicate rows\n",
    "# We'll group by the subset columns and then check for column-wise similarity within each group\n",
    "\n",
    "from collections import Counter\n",
    "\n",
    "# Create a counter for each column to see how often values match across duplicates\n",
    "match_counts = Counter()\n",
    "\n",
    "# Group the duplicates by the subset columns\n",
    "grouped = duplicate_subset.groupby(subset_cols)\n",
    "\n",
    "# For each group, check how many columns have the same value across all rows\n",
    "for _, group in grouped:\n",
    "    if len(group) < 2:\n",
    "        continue  # Skip groups with only one row\n",
    "    for col in df.columns:\n",
    "        if col in subset_cols:\n",
    "            continue\n",
    "        if group[col].nunique(dropna=False) == 1:  # All values in this column are the same\n",
    "            match_counts[col] += 1\n",
    "\n",
    "# Sort and display the most frequently matched columns\n",
    "sorted_matches = dict(sorted(match_counts.items(), key=lambda item: item[1], reverse=True))\n",
    "\n",
    "print(\"\\nColumns that most frequently match within duplicate groups:\")\n",
    "for col, count in sorted_matches.items():\n",
    "    print(f\"{col}: {count} groups\")"
   ]
  },
  {
   "cell_type": "markdown",
   "id": "b805a48c-e8b3-42e3-8e67-8de52afc3f09",
   "metadata": {},
   "source": [
    "### Task 3: Visualize Duplicates Distribution\n",
    "1. Create visualizations to show the distribution of duplicates across different categories.\n",
    "2. Use bar charts or pie charts to represent the distribution of duplicates by Country and Employment.\n"
   ]
  },
  {
   "cell_type": "code",
   "execution_count": 8,
   "id": "9d5016a8-583b-4db1-adb9-681b72aeba55",
   "metadata": {},
   "outputs": [
    {
     "data": {
      "image/png": "[encoded data removed]",
      "text/plain": [
       "<Figure size 1000x600 with 1 Axes>"
      ]
     },
     "metadata": {},
     "output_type": "display_data"
    },
    {
     "data": {
      "image/png": "[encoded data removed]",
      "text/plain": [
       "<Figure size 800x800 with 1 Axes>"
      ]
     },
     "metadata": {},
     "output_type": "display_data"
    }
   ],
   "source": [
    "## Write your code here\n",
    "# Identify duplicate rows\n",
    "duplicates = df[df.duplicated(keep=False)]\n",
    "\n",
    "# --- Distribution by Country (Bar Chart) ---\n",
    "country_counts = duplicates['Country'].value_counts().head(10)  # Top 10 countries\n",
    "\n",
    "plt.figure(figsize=(10, 6))\n",
    "country_counts.plot(kind='bar', color='skyblue')\n",
    "plt.title('Top 10 Countries with Duplicate Rows')\n",
    "plt.xlabel('Country')\n",
    "plt.ylabel('Number of Duplicate Rows')\n",
    "plt.xticks(rotation=45)\n",
    "plt.tight_layout()\n",
    "plt.show()\n",
    "\n",
    "# --- Distribution by Employment (Pie Chart) ---\n",
    "employment_counts = duplicates['Employment'].value_counts()\n",
    "\n",
    "plt.figure(figsize=(8, 8))\n",
    "employment_counts.plot(kind='pie', autopct='%1.1f%%', startangle=140, colors=plt.cm.Paired.colors)\n",
    "plt.title('Distribution of Duplicates by Employment')\n",
    "plt.ylabel('')  # Hide y-axis label for pie chart\n",
    "plt.tight_layout()\n",
    "plt.show()"
   ]
  },
  {
   "cell_type": "markdown",
   "id": "87211b7d-14f3-41b8-a883-9f77d25f55c1",
   "metadata": {},
   "source": [
    "### Task 4: Strategic Removal of Duplicates\n",
    "1. Decide which columns are critical for defining uniqueness in the dataset.\n",
    "2. Remove duplicates based on a subset of columns if complete row duplication is not a good criterion.\n"
   ]
  },
  {
   "cell_type": "code",
   "execution_count": 9,
   "id": "7e1c64b7-5b48-4837-b139-1bc410faa0bc",
   "metadata": {},
   "outputs": [
    {
     "name": "stdout",
     "output_type": "stream",
     "text": [
      "Number of duplicate rows based on key columns: 51928\n",
      "Original dataset shape: (65457, 114)\n",
      "Cleaned dataset shape: (20051, 114)\n"
     ]
    }
   ],
   "source": [
    "## Write your code here\n",
    "# Define key columns to check for duplicate logic\n",
    "key_columns = ['MainBranch', 'Employment', 'RemoteWork', 'Country', 'EdLevel', 'Age']\n",
    "\n",
    "# Count how many duplicates exist based on the selected columns\n",
    "subset_duplicates = df.duplicated(subset=key_columns, keep=False)\n",
    "print(\"Number of duplicate rows based on key columns:\", subset_duplicates.sum())\n",
    "\n",
    "# Remove duplicates, keeping the first occurrence\n",
    "df_cleaned = df.drop_duplicates(subset=key_columns, keep='first')\n",
    "\n",
    "print(\"Original dataset shape:\", df.shape)\n",
    "print(\"Cleaned dataset shape:\", df_cleaned.shape)"
   ]
  },
  {
   "cell_type": "markdown",
   "id": "b1e36e50-897e-49ad-bbce-c788043a4424",
   "metadata": {},
   "source": [
    "## Verify and Document Duplicate Removal Process\n"
   ]
  },
  {
   "cell_type": "markdown",
   "id": "64e47f9d-977b-420c-8c13-c050ea305392",
   "metadata": {},
   "source": [
    "### Task 5: Documentation\n",
    "1. Document the process of identifying and removing duplicates.\n"
   ]
  },
  {
   "cell_type": "raw",
   "id": "96ac861d-f2ff-41bc-83ee-441a92281ba6",
   "metadata": {
    "vscode": {
     "languageId": "raw"
    }
   },
   "source": [
    "# Write your explanation here\n",
    "Found the number of duplicate rows in a DataFrame and viewed the DataFrame with duplicates."
   ]
  },
  {
   "cell_type": "markdown",
   "id": "0e1fbbaa-0de2-492a-91d8-85111ef48c8b",
   "metadata": {},
   "source": [
    "2. Explain the reasoning behind selecting specific columns for identifying and removing duplicates.\n"
   ]
  },
  {
   "cell_type": "raw",
   "id": "5892c110-4910-4875-93dc-4463d69692ca",
   "metadata": {
    "vscode": {
     "languageId": "raw"
    }
   },
   "source": [
    "# Write your explanation here\n",
    "Selecting specific columns to identify and remove duplicates so that only true duplicate records are eliminated so that the DataFrame retains unique records based on the specified columns."
   ]
  },
  {
   "cell_type": "markdown",
   "id": "a1c7e20a-1bf6-4527-8e96-72327c45cd80",
   "metadata": {},
   "source": [
    "### Summary and Next Steps\n",
    "**In this lab, you focused on identifying and analyzing duplicate rows within the dataset.**\n",
    "\n",
    "- You employed various techniques to explore the nature of duplicates and applied strategic methods for their removal.\n",
    "- For additional analysis, consider investigating the impact of duplicates on specific analyses and how their removal affects the results.\n",
    "- This version of the lab is more focused on duplicate analysis and handling, providing a structured approach to deal with duplicates in a dataset effectively.\n"
   ]
  },
  {
   "cell_type": "markdown",
   "id": "066efe23-175b-4c0f-8abc-379169aec311",
   "metadata": {},
   "source": [
    "Copyright © IBM Corporation. All rights reserved."
   ]
  }
 ],
 "metadata": {
  "kernelspec": {
   "display_name": ".venv",
   "language": "python",
   "name": "python3"
  },
  "language_info": {
   "codemirror_mode": {
    "name": "ipython",
    "version": 3
   },
   "file_extension": ".py",
   "mimetype": "text/x-python",
   "name": "python",
   "nbconvert_exporter": "python",
   "pygments_lexer": "ipython3",
   "version": "3.13.3"
  },
  "prev_pub_hash": "fa3493caccf457f2b33a3a72ca6bf5789c2ce4157ea6e40534b09cc8380e8ae5"
 },
 "nbformat": 4,
 "nbformat_minor": 4
}
